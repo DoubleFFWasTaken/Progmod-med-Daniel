{
 "cells": [
  {
   "attachments": {},
   "cell_type": "markdown",
   "metadata": {},
   "source": [
    "# Nbody simulation"
   ]
  },
  {
   "attachments": {},
   "cell_type": "markdown",
   "metadata": {},
   "source": [
    "Get Acceleration:"
   ]
  },
  {
   "attachments": {},
   "cell_type": "markdown",
   "metadata": {},
   "source": [
    "## Energy:"
   ]
  },
  {
   "attachments": {},
   "cell_type": "markdown",
   "metadata": {},
   "source": [
    "Main simulation:"
   ]
  },
  {
   "cell_type": "code",
   "execution_count": 2,
   "metadata": {},
   "outputs": [],
   "source": [
    "import matplotlib.animation as animation \n",
    "import numpy as np\n",
    "import matplotlib.pyplot as plt\n",
    "from IPython.display import clear_output\n"
   ]
  },
  {
   "cell_type": "code",
   "execution_count": 41,
   "metadata": {},
   "outputs": [],
   "source": [
    "plt.style.use('dark_background')\n",
    "\n",
    "\"\"\"\n",
    "Create Your Own N-body Simulation (With Python)\n",
    "Philip Mocz (2020) Princeton Univeristy, @PMocz\n",
    "Simulate orbits of stars interacting due to gravity\n",
    "Code calculates pairwise forces according to Newton's Law of Gravity\n",
    "\"\"\"\n",
    "\n",
    "def getAcc( pos, mass, G, softening ):\n",
    "\t\"\"\"\n",
    "    Calculate the acceleration on each particle due to Newton's Law \n",
    "\tpos  is an N x 3 matrix of positions\n",
    "\tmass is an N x 1 vector of masses\n",
    "\tG is Newton's Gravitational constant\n",
    "\tsoftening is the softening length\n",
    "\ta is N x 3 matrix of accelerations\n",
    "\t\"\"\"\n",
    "\t# positions r = [x,y,z] for all particles\n",
    "\tx = pos[:,0:1]\n",
    "\ty = pos[:,1:2]\n",
    "\tz = pos[:,2:3]\n",
    "\n",
    "\t# matrix that stores all pairwise particle separations: r_j - r_i\n",
    "\tdx = x.T - x\n",
    "\tdy = y.T - y\n",
    "\tdz = z.T - z\n",
    "\n",
    "\t# matrix that stores 1/r^3 for all particle pairwise particle separations \n",
    "\tinv_r3 = (dx**2 + dy**2 + dz**2 + softening**2)\n",
    "\tinv_r3[inv_r3>0] = inv_r3[inv_r3>0]**(-1.5)\n",
    "\n",
    "\tax = G * (dx * inv_r3) @ mass\n",
    "\tay = G * (dy * inv_r3) @ mass\n",
    "\taz = G * (dz * inv_r3) @ mass\n",
    "\t\n",
    "\t# pack together the acceleration components\n",
    "\ta = np.hstack((ax,ay,az))\n",
    "\n",
    "\treturn a\n",
    "\n",
    "def main_pyplot_animation():\n",
    "\t\"\"\" N-body simulation \"\"\"\n",
    "\t\n",
    "\t# Simulation parameters\n",
    "\tN         = 200    # Number of particles\n",
    "\tt         = 0      # current time of the simulation\n",
    "\ttEnd      = 10.0   # time at which simulation ends\n",
    "\tdt        = 0.1   # timestep\n",
    "\tsoftening = 0.1   # softening length\n",
    "\tG         = 1  # Newton's Gravitational Constant\n",
    "\tplotRealTime = True # switch on for plotting as the simulation goes along\n",
    "\t\n",
    "\t# Generate Initial Conditions\n",
    "\n",
    "\tnp.random.seed(20)            # set the random number generator seed\n",
    "\t\n",
    "\tmass = -20.0*np.ones((N,1))/N  # total mass of particles is 20\n",
    "\tpos  = np.random.randn(N,3)   # randomly selected positions and velocities\n",
    "\tvel  = np.random.randn(N,3)\n",
    "\n",
    "\n",
    "\t# Convert to Center-of-Mass frame\n",
    "\tvel -= np.mean(mass * vel,0) / np.mean(mass)\n",
    "\t\n",
    "\t# calculate initial gravitational accelerations\n",
    "\tacc = getAcc( pos, mass, G, softening )\n",
    "\t\t\n",
    "\t# number of timesteps\n",
    "\tNt = int(np.ceil(tEnd/dt))\n",
    "\t\n",
    "\t# save energies, particle orbits for plotting trails\n",
    "\tpos_save = np.zeros((N,3,Nt+1))\n",
    "\tpos_save[:,:,0] = pos\n",
    "\n",
    "\n",
    "\t# prep figure\n",
    "\tfig = plt.figure(figsize=(1,2), dpi=80)\n",
    "\tgrid = plt.GridSpec(3, 1, wspace=0.0, hspace=0.3)\n",
    "\tax = plt.subplot(grid[0:10,0])\n",
    "\tline, = ax.plot([], [], lw=3)\n",
    "\n",
    "\tq = 0\t\n",
    "\t# Simulation Main Loop\n",
    "\tfor i in range(Nt):\n",
    "\t\t# (1/2) kick\n",
    "\t\tvel += acc * dt/2.0\n",
    "\t\t\n",
    "\t\t# drift\n",
    "\t\tpos += vel * dt\n",
    "\t\t\n",
    "\t\t# update accelerations\n",
    "\t\tacc = getAcc( pos, mass, G, softening )\n",
    "\t\t\n",
    "\t\t# (1/2) kick\n",
    "\t\tvel += acc * dt/2.0\n",
    "\t\t\n",
    "\t\t# update time\n",
    "\t\tt += dt\t\t\n",
    "\t\t\n",
    "\t\t# save energies, positions for plotting trail\n",
    "\t\tpos_save[:,:,i+1] = pos\n",
    "\t\t\n",
    "\t\t\n",
    "\t\tif plotRealTime or (i == Nt-1):\n",
    "\t\t\tplt.cla()\n",
    "\n",
    "\t\t\t\n",
    "\t\t\t\n",
    "\n",
    "\t\t\tax.set_aspect('equal', 'box')\n",
    "\t\t\tplt.xlim([-20, 20])\n",
    "\t\t\tplt.ylim([-20, 20])\n",
    "\t\t\t\n",
    "\t\t\txx = pos_save[:,0,max(i-50,0):i+1]\n",
    "\t\t\tyy = pos_save[:,1,max(i-50,0):i+1]\n",
    "\n",
    "\t\t\tplt.scatter(xx, yy, s=1/5, color=[.7,.7,1], alpha=0.25)\n",
    "\t\t\tplt.scatter(pos[:,0], pos[:,1], 'ColorVariable','Diastolic', s=1, alpha=0.8)\n",
    "\n",
    "\t\t\t\n",
    "\t\t\t#plt.savefig(f\"nbody6_{q}.png\", format=None)\n",
    "\t\t\tq += 1\n",
    "\t\t\t\n",
    "\t\t\tplt.pause(0.00001)\n",
    "\t    \n",
    "\n",
    "\t\n",
    "\t# Save figure\n",
    "\tplt.show()\n",
    "\t\n",
    "\treturn 0\n",
    "#clear_output()"
   ]
  },
  {
   "cell_type": "code",
   "execution_count": 42,
   "metadata": {},
   "outputs": [
    {
     "ename": "TypeError",
     "evalue": "scatter() got multiple values for argument 's'",
     "output_type": "error",
     "traceback": [
      "\u001b[1;31m---------------------------------------------------------------------------\u001b[0m",
      "\u001b[1;31mTypeError\u001b[0m                                 Traceback (most recent call last)",
      "\u001b[1;32mc:\\Users\\filip\\OneDrive\\Dokumenter\\GitHub\\Progmod-med-Daniel\\Hello_mannen\\Koden\\Jupter_version.ipynb Cell 7\u001b[0m in \u001b[0;36m<cell line: 1>\u001b[1;34m()\u001b[0m\n\u001b[1;32m----> <a href='vscode-notebook-cell:/c%3A/Users/filip/OneDrive/Dokumenter/GitHub/Progmod-med-Daniel/Hello_mannen/Koden/Jupter_version.ipynb#W6sZmlsZQ%3D%3D?line=0'>1</a>\u001b[0m main_pyplot_animation()\n",
      "\u001b[1;32mc:\\Users\\filip\\OneDrive\\Dokumenter\\GitHub\\Progmod-med-Daniel\\Hello_mannen\\Koden\\Jupter_version.ipynb Cell 7\u001b[0m in \u001b[0;36mmain_pyplot_animation\u001b[1;34m()\u001b[0m\n\u001b[0;32m    <a href='vscode-notebook-cell:/c%3A/Users/filip/OneDrive/Dokumenter/GitHub/Progmod-med-Daniel/Hello_mannen/Koden/Jupter_version.ipynb#W6sZmlsZQ%3D%3D?line=115'>116</a>\u001b[0m yy \u001b[39m=\u001b[39m pos_save[:,\u001b[39m1\u001b[39m,\u001b[39mmax\u001b[39m(i\u001b[39m-\u001b[39m\u001b[39m50\u001b[39m,\u001b[39m0\u001b[39m):i\u001b[39m+\u001b[39m\u001b[39m1\u001b[39m]\n\u001b[0;32m    <a href='vscode-notebook-cell:/c%3A/Users/filip/OneDrive/Dokumenter/GitHub/Progmod-med-Daniel/Hello_mannen/Koden/Jupter_version.ipynb#W6sZmlsZQ%3D%3D?line=117'>118</a>\u001b[0m plt\u001b[39m.\u001b[39mscatter(xx, yy, s\u001b[39m=\u001b[39m\u001b[39m1\u001b[39m\u001b[39m/\u001b[39m\u001b[39m5\u001b[39m, color\u001b[39m=\u001b[39m[\u001b[39m.7\u001b[39m,\u001b[39m.7\u001b[39m,\u001b[39m1\u001b[39m], alpha\u001b[39m=\u001b[39m\u001b[39m0.25\u001b[39m)\n\u001b[1;32m--> <a href='vscode-notebook-cell:/c%3A/Users/filip/OneDrive/Dokumenter/GitHub/Progmod-med-Daniel/Hello_mannen/Koden/Jupter_version.ipynb#W6sZmlsZQ%3D%3D?line=118'>119</a>\u001b[0m plt\u001b[39m.\u001b[39;49mscatter(pos[:,\u001b[39m0\u001b[39;49m], pos[:,\u001b[39m1\u001b[39;49m], \u001b[39m'\u001b[39;49m\u001b[39mColorVariable\u001b[39;49m\u001b[39m'\u001b[39;49m,\u001b[39m'\u001b[39;49m\u001b[39mDiastolic\u001b[39;49m\u001b[39m'\u001b[39;49m, s\u001b[39m=\u001b[39;49m\u001b[39m1\u001b[39;49m, alpha\u001b[39m=\u001b[39;49m\u001b[39m0.8\u001b[39;49m)\n\u001b[0;32m    <a href='vscode-notebook-cell:/c%3A/Users/filip/OneDrive/Dokumenter/GitHub/Progmod-med-Daniel/Hello_mannen/Koden/Jupter_version.ipynb#W6sZmlsZQ%3D%3D?line=121'>122</a>\u001b[0m \u001b[39m#plt.savefig(f\"nbody6_{q}.png\", format=None)\u001b[39;00m\n\u001b[0;32m    <a href='vscode-notebook-cell:/c%3A/Users/filip/OneDrive/Dokumenter/GitHub/Progmod-med-Daniel/Hello_mannen/Koden/Jupter_version.ipynb#W6sZmlsZQ%3D%3D?line=122'>123</a>\u001b[0m q \u001b[39m+\u001b[39m\u001b[39m=\u001b[39m \u001b[39m1\u001b[39m\n",
      "\u001b[1;31mTypeError\u001b[0m: scatter() got multiple values for argument 's'"
     ]
    },
    {
     "data": {
      "image/png": "[encoded data removed]",
      "text/plain": [
       "<Figure size 80x160 with 1 Axes>"
      ]
     },
     "metadata": {},
     "output_type": "display_data"
    }
   ],
   "source": [
    "main_pyplot_animation()"
   ]
  },
  {
   "cell_type": "code",
   "execution_count": null,
   "metadata": {},
   "outputs": [],
   "source": []
  }
 ],
 "metadata": {
  "kernelspec": {
   "display_name": "Python 3",
   "language": "python",
   "name": "python3"
  },
  "language_info": {
   "codemirror_mode": {
    "name": "ipython",
    "version": 3
   },
   "file_extension": ".py",
   "mimetype": "text/x-python",
   "name": "python",
   "nbconvert_exporter": "python",
   "pygments_lexer": "ipython3",
   "version": "3.10.6"
  },
  "orig_nbformat": 4
 },
 "nbformat": 4,
 "nbformat_minor": 2
}
