{
 "cells": [
  {
   "attachments": {},
   "cell_type": "markdown",
   "metadata": {},
   "source": [
    "# Nbody simulation"
   ]
  },
  {
   "attachments": {},
   "cell_type": "markdown",
   "metadata": {},
   "source": [
    "Get Acceleration:"
   ]
  },
  {
   "cell_type": "code",
   "execution_count": 3,
   "metadata": {},
   "outputs": [],
   "source": [
    "import numpy as np\n",
    "import matplotlib.pyplot as plt\n",
    "import time\n",
    "from IPython.display import clear_output\n",
    "\n",
    "\"\"\"\n",
    "Create Your Own N-body Simulation (With Python)\n",
    "Philip Mocz (2020) Princeton Univeristy, @PMocz\n",
    "Simulate orbits of stars interacting due to gravity\n",
    "Code calculates pairwise forces according to Newton's Law of Gravity\n",
    "\"\"\"\n",
    "\n",
    "def getAcc( pos, mass, G, softening ):\n",
    "\t\"\"\"\n",
    "    Calculate the acceleration on each particle due to Newton's Law \n",
    "\tpos  is an N x 3 matrix of positions\n",
    "\tmass is an N x 1 vector of masses\n",
    "\tG is Newton's Gravitational constant\n",
    "\tsoftening is the softening length\n",
    "\ta is N x 3 matrix of accelerations\n",
    "\t\"\"\"\n",
    "\t# positions r = [x,y,z] for all particles\n",
    "\tx = pos[:,0:1]\n",
    "\ty = pos[:,1:2]\n",
    "\tz = pos[:,2:3]\n",
    "\n",
    "\t# matrix that stores all pairwise particle separations: r_j - r_i\n",
    "\tdx = x.T - x\n",
    "\tdy = y.T - y\n",
    "\tdz = z.T - z\n",
    "\n",
    "\t# matrix that stores 1/r^3 for all particle pairwise particle separations \n",
    "\tinv_r3 = (dx**2 + dy**2 + dz**2 + softening**2)\n",
    "\tinv_r3[inv_r3>0] = inv_r3[inv_r3>0]**(-1.5)\n",
    "\n",
    "\tax = G * (dx * inv_r3) @ mass\n",
    "\tay = G * (dy * inv_r3) @ mass\n",
    "\taz = G * (dz * inv_r3) @ mass\n",
    "\t\n",
    "\t# pack together the acceleration components\n",
    "\ta = np.hstack((ax,ay,az))\n",
    "\n",
    "\treturn a"
   ]
  },
  {
   "attachments": {},
   "cell_type": "markdown",
   "metadata": {},
   "source": [
    "## Energy:"
   ]
  },
  {
   "cell_type": "code",
   "execution_count": 4,
   "metadata": {},
   "outputs": [],
   "source": [
    "def getEnergy( pos, vel, mass, G ):\n",
    "\t\"\"\"\n",
    "\tGet kinetic energy (KE) and potential energy (PE) of simulation\n",
    "\tpos is N x 3 matrix of positions\n",
    "\tvel is N x 3 matrix of velocities\n",
    "\tmass is an N x 1 vector of masses\n",
    "\tG is Newton's Gravitational constant\n",
    "\tKE is the kinetic energy of the system\n",
    "\tPE is the potential energy of the system\n",
    "\t\"\"\"\n",
    "\t# Kinetic Energy:\n",
    "\tKE = 0.5 * np.sum(np.sum( mass * vel**2 ))\n",
    "\n",
    "\n",
    "\t# Potential Energy:\n",
    "\n",
    "\t# positions r = [x,y,z] for all particles\n",
    "\tx = pos[:,0:1]\n",
    "\ty = pos[:,1:2]\n",
    "\tz = pos[:,2:3]\n",
    "\n",
    "\t# matrix that stores all pairwise particle separations: r_j - r_i\n",
    "\tdx = x.T - x\n",
    "\tdy = y.T - y\n",
    "\tdz = z.T - z\n",
    "\n",
    "\t# matrix that stores 1/r for all particle pairwise particle separations \n",
    "\tinv_r = np.sqrt(dx**2 + dy**2 + dz**2)\n",
    "\tinv_r[inv_r>0] = 1.0/inv_r[inv_r>0]\n",
    "\n",
    "\t# sum over upper triangle, to count each interaction only once\n",
    "\tPE = G * np.sum(np.sum(np.triu(-(mass*mass.T)*inv_r,1)))\n",
    "\t\n",
    "\treturn KE, PE;\n"
   ]
  },
  {
   "attachments": {},
   "cell_type": "markdown",
   "metadata": {},
   "source": [
    "Main simulation:"
   ]
  },
  {
   "cell_type": "code",
   "execution_count": 11,
   "metadata": {},
   "outputs": [],
   "source": [
    "\n",
    "def main():\n",
    "\t\"\"\" N-body simulation \"\"\"\n",
    "\t\n",
    "\t# Simulation parameters\n",
    "\tN         = 100    # Number of particles\n",
    "\tt         = 0      # current time of the simulation\n",
    "\ttEnd      = 10.0   # time at which simulation ends\n",
    "\tdt        = 0.01   # timestep\n",
    "\tsoftening = 0.1    # softening length\n",
    "\tG         = 1.0    # Newton's Gravitational Constant\n",
    "\tplotRealTime = True # switch on for plotting as the simulation goes along\n",
    "\t\n",
    "\t# Generate Initial Conditions\n",
    "\tnp.random.seed(17)            # set the random number generator seed\n",
    "\t\n",
    "\tmass = 20.0*np.ones((N,1))/N  # total mass of particles is 20\n",
    "\tpos  = np.random.randn(N,3)   # randomly selected positions and velocities\n",
    "\tvel  = np.random.randn(N,3)\n",
    "\t\n",
    "\t# Convert to Center-of-Mass frame\n",
    "\tvel -= np.mean(mass * vel,0) / np.mean(mass)\n",
    "\t\n",
    "\t# calculate initial gravitational accelerations\n",
    "\tacc = getAcc( pos, mass, G, softening )\n",
    "\t\n",
    "\t# calculate initial energy of system\n",
    "\tKE, PE  = getEnergy( pos, vel, mass, G )\n",
    "\t\n",
    "\t# number of timesteps\n",
    "\tNt = int(np.ceil(tEnd/dt))\n",
    "\t\n",
    "\t# save energies, particle orbits for plotting trails\n",
    "\tpos_save = np.zeros((N,3,Nt+1))\n",
    "\tpos_save[:,:,0] = pos\n",
    "\n",
    "\n",
    "\t# prep figure\n",
    "\tfig = plt.figure(figsize=(4,5), dpi=80)\n",
    "\tgrid = plt.GridSpec(3, 1, wspace=0.0, hspace=0.3)\n",
    "\tax1 = plt.subplot(grid[0:2,0])\n",
    "\t\n",
    "\t# Simulation Main Loop\n",
    "\tfor i in range(Nt):\n",
    "\t\t# (1/2) kick\n",
    "\t\tvel += acc * dt/2.0\n",
    "\t\t\n",
    "\t\t# drift\n",
    "\t\tpos += vel * dt\n",
    "\t\t\n",
    "\t\t# update accelerations\n",
    "\t\tacc = getAcc( pos, mass, G, softening )\n",
    "\t\t\n",
    "\t\t# (1/2) kick\n",
    "\t\tvel += acc * dt/2.0\n",
    "\t\t\n",
    "\t\t# update time\n",
    "\t\tt += dt\n",
    "\t\t\n",
    "\t\t# get energy of system\n",
    "\t\tKE, PE  = getEnergy( pos, vel, mass, G )\n",
    "\t\t\n",
    "\t\t\n",
    "\t\t# save energies, positions for plotting trail\n",
    "\t\tpos_save[:,:,i+1] = pos\n",
    "\n",
    "\t\t\n",
    "\t\t# plot in real time\n",
    "\t\tif plotRealTime or (i == Nt-1):\n",
    "\t\t\tplt.sca(ax1)\n",
    "\t\t\tplt.cla()\n",
    "\t\t\txx = pos_save[:,0,max(i-50,0):i+1]\n",
    "\t\t\tyy = pos_save[:,1,max(i-50,0):i+1]\n",
    "\t\t\tplt.scatter(xx,yy,s=1,color=[.7,.7,1])\n",
    "\t\t\tplt.scatter(pos[:,0],pos[:,1],s=10,color='blue')\n",
    "\t\t\tax1.set(xlim=(-2, 2), ylim=(-2, 2))\n",
    "\t\t\tax1.set_aspect('equal', 'box')\n",
    "\t\t\tax1.set_xticks([-2,-1,0,1,2])\n",
    "\t\t\tax1.set_yticks([-2,-1,0,1,2])\n",
    "\t\t\tplt.pause(0.001)\n",
    "\t\t\tclear_output(wait=True)\n",
    "\t\n",
    "\t\n",
    "\t# Save figure\n",
    "\tplt.savefig('nbody.png',dpi=240)\n",
    "\tplt.show()\n",
    "\n",
    "\tplt.close()\n",
    "\t\n",
    "\treturn 0"
   ]
  },
  {
   "cell_type": "code",
   "execution_count": 13,
   "metadata": {},
   "outputs": [
    {
     "data": {
      "image/png": "[encoded data removed]",
      "text/plain": [
       "<Figure size 320x400 with 1 Axes>"
      ]
     },
     "metadata": {},
     "output_type": "display_data"
    }
   ],
   "source": [
    "main()"
   ]
  }
 ],
 "metadata": {
  "kernelspec": {
   "display_name": "Python 3",
   "language": "python",
   "name": "python3"
  },
  "language_info": {
   "codemirror_mode": {
    "name": "ipython",
    "version": 3
   },
   "file_extension": ".py",
   "mimetype": "text/x-python",
   "name": "python",
   "nbconvert_exporter": "python",
   "pygments_lexer": "ipython3",
   "version": "3.10.6"
  },
  "orig_nbformat": 4
 },
 "nbformat": 4,
 "nbformat_minor": 2
}
